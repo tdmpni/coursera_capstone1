{
  "nbformat": 4,
  "nbformat_minor": 0,
  "metadata": {
    "colab": {
      "name": "Coursera_Final.ipynb",
      "provenance": [],
      "authorship_tag": "ABX9TyMzLk9dB8Mth+DaZpr9kds9",
      "include_colab_link": true
    },
    "kernelspec": {
      "name": "python3",
      "display_name": "Python 3"
    }
  },
  "cells": [
    {
      "cell_type": "markdown",
      "metadata": {
        "id": "view-in-github",
        "colab_type": "text"
      },
      "source": [
        "<a href=\"https://colab.research.google.com/github/tdmpni/coursera_capstone1/blob/main/Coursera_Final.ipynb\" target=\"_parent\"><img src=\"https://colab.research.google.com/assets/colab-badge.svg\" alt=\"Open In Colab\"/></a>"
      ]
    },
    {
      "cell_type": "markdown",
      "metadata": {
        "id": "7iWgjHdhounN"
      },
      "source": [
        "# LeNike Pop-up Store Evaluation\n",
        "*This is a project for the IBM Data Science certification*"
      ]
    },
    {
      "cell_type": "markdown",
      "metadata": {
        "id": "38dd513po5om"
      },
      "source": [
        "## Introduction & Business Problem\n",
        "\n",
        "Pop up stores are a great marketing tool for various brands and particularly for those that do not traditionally operate brick and mortar stores.  \n",
        "A pop up store is where a brand opens a store in a certain area  for a short period of time. The likes of Nike, BarkShop and many more have had great success with pop up stores. Pop up stores can lead to massive social media exposure and rapid sales as people have a fear of missing out since they know the store will be gone at any moment.\n",
        "\n",
        "**The problem:** _Where an online brand should open a pop-up store_\n",
        "\n",
        "Toronto is North America's fastest growing city, and this project shall tackle the business problem of leading a online clothing brand deciding on where in Toronto to open a pop-up store. \n",
        "\n",
        "The brand shall be called LeNike. The ideal location will be trendy, and have a high concentration of other retail businesses to ensure a high amount of foot traffic.\n",
        "\n",
        "Commercial real estate in Toronto is some of the most expensive in North America, so LeNike needs to make sure it picks the right spot for their investment to pay off. \n",
        "\n",
        "The stakeholders for this project are LeNike's executive team that will need to be presented with this data in order to decide where in Toronto to open the store. \n",
        "\n",
        "The executives must ideally pick the best location as 2020 was a difficult year for retail, and they need to have a successful 2021 in order for the company to continue surviving. \n"
      ]
    },
    {
      "cell_type": "code",
      "metadata": {
        "id": "90A728sVorAc"
      },
      "source": [
        ""
      ],
      "execution_count": null,
      "outputs": []
    }
  ]
}