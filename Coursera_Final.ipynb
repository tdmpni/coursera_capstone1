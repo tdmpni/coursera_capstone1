{
  "nbformat": 4,
  "nbformat_minor": 0,
  "metadata": {
    "colab": {
      "name": "Coursera_Final.ipynb",
      "provenance": [],
      "toc_visible": true,
      "authorship_tag": "ABX9TyPm+vQeDlXkdN7T1aI7ahL3",
      "include_colab_link": true
    },
    "kernelspec": {
      "name": "python3",
      "display_name": "Python 3"
    }
  },
  "cells": [
    {
      "cell_type": "markdown",
      "metadata": {
        "id": "view-in-github",
        "colab_type": "text"
      },
      "source": [
        "<a href=\"https://colab.research.google.com/github/tdmpni/coursera_capstone1/blob/main/Coursera_Final.ipynb\" target=\"_parent\"><img src=\"https://colab.research.google.com/assets/colab-badge.svg\" alt=\"Open In Colab\"/></a>"
      ]
    },
    {
      "cell_type": "markdown",
      "metadata": {
        "id": "7iWgjHdhounN"
      },
      "source": [
        "# LeNike Pop-up Store Evaluation\n",
        "*This is a project for the IBM Data Science Certification*"
      ]
    },
    {
      "cell_type": "markdown",
      "metadata": {
        "id": "38dd513po5om"
      },
      "source": [
        "## Introduction & Business Problem\n",
        "\n",
        "Pop up stores are a great marketing tool for various brands and particularly for those that do not traditionally operate brick and mortar stores.  \n",
        "A pop up store is where a brand opens a store in a certain area  for a short period of time. The likes of Nike, BarkShop and many more have had great success with pop up stores. Pop up stores can lead to massive social media exposure and rapid sales as people have a fear of missing out since they know the store will be gone at any moment.\n",
        "\n",
        "**The problem:** _Where an online brand should open a pop-up store_\n",
        "\n",
        "Toronto is North America's fastest growing city, and this project shall tackle the business problem of leading a online clothing brand deciding on where in Toronto to open a pop-up store. \n",
        "\n",
        "The brand shall be called LeNike. The ideal location will be trendy, and have a high concentration of other retail businesses to ensure a high amount of foot traffic.\n",
        "\n",
        "Commercial real estate in Toronto is some of the most expensive in North America, so LeNike needs to make sure it picks the right spot for their investment to pay off. \n",
        "\n",
        "The stakeholders for this project are LeNike's executive team that will need to be presented with this data in order to decide where in Toronto to open the store. \n",
        "\n",
        "The executives must ideally pick the best location as 2020 was a difficult year for retail, and they need to have a successful 2021 in order for the company to continue surviving. \n"
      ]
    },
    {
      "cell_type": "markdown",
      "metadata": {
        "id": "_avfdJVPqBft"
      },
      "source": [
        "## Data\n",
        "\n",
        "This project shall use data from FourSquare to help the executives make a decision.\n",
        "\n",
        "FourSquare has a robust API, and we'll mainly be using their _explore_ endpoint to gather data on trending venues and neighbour hoods in the city.\n",
        "\n",
        "The API returns various information about venues including their category, location, and groups.\n",
        "\n",
        "We'll be using the location and category data to help cluster the various venues in the city. This will thenthen ultimately help us decide where the best location for exposure will be. This will be a location that has a high number of different business clustered together as to attract the most diverse population of consumers as LeNike is an inclusive brand."
      ]
    },
    {
      "cell_type": "markdown",
      "metadata": {
        "id": "jiR5ONSQtgx_"
      },
      "source": [
        "## Methodology\n",
        "*Methodology section which represents the main component of the report where you discuss and describe any exploratory data analysis that you did, any inferential statistical testing that you performed, if any, and what machine learnings were used and why.*"
      ]
    },
    {
      "cell_type": "code",
      "metadata": {
        "colab": {
          "base_uri": "https://localhost:8080/"
        },
        "id": "8PnQFv7TwStk",
        "outputId": "4ab2ad8a-f006-49a0-b71a-1f7e413fdd69"
      },
      "source": [
        "#Import necessary libraries\n",
        "import numpy as np # library to handle data in a vectorized manner\n",
        "import pandas as pd # library for data analsysis\n",
        "\n",
        "import json # library to handle JSON files\n",
        "\n",
        "import requests # library to handle requests\n",
        "from pandas.io.json import json_normalize # tranform JSON file into a pandas dataframe\n",
        "\n",
        "# Matplotlib and associated plotting modules\n",
        "import matplotlib.cm as cm\n",
        "import matplotlib.colors as colors\n",
        "\n",
        "# import k-means from clustering stage\n",
        "from sklearn.cluster import KMeans\n",
        "\n",
        "#!conda install -c conda-forge folium\n",
        "import folium # map rendering library\n",
        "\n",
        "print('Libraries imported.')"
      ],
      "execution_count": 2,
      "outputs": [
        {
          "output_type": "stream",
          "text": [
            "Libraries imported.\n"
          ],
          "name": "stdout"
        }
      ]
    },
    {
      "cell_type": "markdown",
      "metadata": {
        "id": "Uxiq2No50XiE"
      },
      "source": [
        "### Sourcing data from FourSquare"
      ]
    },
    {
      "cell_type": "code",
      "metadata": {
        "id": "YtTw0JrlxarO"
      },
      "source": [
        "#FourSquare API Housekeeping\n",
        "CLIENT_ID = 'YE3ORUH24FXCX5UNUWZUH2LR2NEKOCUAMQL0YQEF30FXVGOK' \n",
        "CLIENT_SECRET = 'DCO5MTJIP2INBZJQ5HTKSRIULPKP32CXWMF1F3AIYPQAOI3F'\n",
        "VERSION = '20200201' # Using 2020 version before COVID as a number of venues closed after\n",
        "NEAR = 'Toronto, ON'\n",
        "\n",
        "url = 'https://api.foursquare.com/v2/venues/explore?&client_id={}&client_secret={}&near={}&v={}'.format(\n",
        "    CLIENT_ID, \n",
        "    CLIENT_SECRET, \n",
        "    NEAR, \n",
        "    VERSION\n",
        "    )\n",
        "# Getting venue information from FourSquare\n",
        "api_results = requests.get(url).json()"
      ],
      "execution_count": 31,
      "outputs": []
    },
    {
      "cell_type": "code",
      "metadata": {
        "id": "gjSW5-ooILNm"
      },
      "source": [
        "# function that extracts the category of the venue\n",
        "def get_category_type(row):\n",
        "    try:\n",
        "        categories_list = row['categories']\n",
        "    except:\n",
        "        categories_list = row['venue.categories']\n",
        "        \n",
        "    if len(categories_list) == 0:\n",
        "        return None\n",
        "    else:\n",
        "        return categories_list[0]['name']"
      ],
      "execution_count": 28,
      "outputs": []
    },
    {
      "cell_type": "code",
      "metadata": {
        "colab": {
          "base_uri": "https://localhost:8080/",
          "height": 979
        },
        "id": "5zE6uqRbH4Op",
        "outputId": "c310e6a9-5ae8-4b23-82eb-f5a47256ade9"
      },
      "source": [
        "venues = api_results['response']['groups'][0]['items']\n",
        "\n",
        "nearby_venues = pd.json_normalize(venues) # flatten JSON\n",
        "\n",
        "# filter columns\n",
        "filtered_columns = ['venue.name', 'venue.categories', 'venue.location.lat', 'venue.location.lng']\n",
        "nearby_venues =nearby_venues.loc[:, filtered_columns]\n",
        "\n",
        "# filter the category for each row\n",
        "nearby_venues['venue.categories'] = nearby_venues.apply(get_category_type, axis=1)\n",
        "\n",
        "# clean columns\n",
        "nearby_venues.columns = [col.split(\".\")[-1] for col in nearby_venues.columns]\n",
        "\n",
        "nearby_venues.head(100)"
      ],
      "execution_count": 38,
      "outputs": [
        {
          "output_type": "execute_result",
          "data": {
            "text/html": [
              "<div>\n",
              "<style scoped>\n",
              "    .dataframe tbody tr th:only-of-type {\n",
              "        vertical-align: middle;\n",
              "    }\n",
              "\n",
              "    .dataframe tbody tr th {\n",
              "        vertical-align: top;\n",
              "    }\n",
              "\n",
              "    .dataframe thead th {\n",
              "        text-align: right;\n",
              "    }\n",
              "</style>\n",
              "<table border=\"1\" class=\"dataframe\">\n",
              "  <thead>\n",
              "    <tr style=\"text-align: right;\">\n",
              "      <th></th>\n",
              "      <th>name</th>\n",
              "      <th>categories</th>\n",
              "      <th>lat</th>\n",
              "      <th>lng</th>\n",
              "    </tr>\n",
              "  </thead>\n",
              "  <tbody>\n",
              "    <tr>\n",
              "      <th>0</th>\n",
              "      <td>High Park</td>\n",
              "      <td>Park</td>\n",
              "      <td>43.646479</td>\n",
              "      <td>-79.463425</td>\n",
              "    </tr>\n",
              "    <tr>\n",
              "      <th>1</th>\n",
              "      <td>Northern Belle</td>\n",
              "      <td>Cocktail Bar</td>\n",
              "      <td>43.650906</td>\n",
              "      <td>-79.412840</td>\n",
              "    </tr>\n",
              "    <tr>\n",
              "      <th>2</th>\n",
              "      <td>Riverdale Park East</td>\n",
              "      <td>Park</td>\n",
              "      <td>43.669951</td>\n",
              "      <td>-79.355493</td>\n",
              "    </tr>\n",
              "    <tr>\n",
              "      <th>3</th>\n",
              "      <td>Downtown Toronto</td>\n",
              "      <td>Neighborhood</td>\n",
              "      <td>43.653232</td>\n",
              "      <td>-79.385296</td>\n",
              "    </tr>\n",
              "    <tr>\n",
              "      <th>4</th>\n",
              "      <td>Cedarvale Park</td>\n",
              "      <td>Field</td>\n",
              "      <td>43.692535</td>\n",
              "      <td>-79.428705</td>\n",
              "    </tr>\n",
              "    <tr>\n",
              "      <th>5</th>\n",
              "      <td>Waterfront Trail</td>\n",
              "      <td>Trail</td>\n",
              "      <td>43.635859</td>\n",
              "      <td>-79.467529</td>\n",
              "    </tr>\n",
              "    <tr>\n",
              "      <th>6</th>\n",
              "      <td>Maryam Hotel</td>\n",
              "      <td>Hotel</td>\n",
              "      <td>43.766961</td>\n",
              "      <td>-79.401199</td>\n",
              "    </tr>\n",
              "    <tr>\n",
              "      <th>7</th>\n",
              "      <td>Humber Bay Park</td>\n",
              "      <td>Park</td>\n",
              "      <td>43.622396</td>\n",
              "      <td>-79.478389</td>\n",
              "    </tr>\n",
              "    <tr>\n",
              "      <th>8</th>\n",
              "      <td>Humber River Footbridge</td>\n",
              "      <td>Bridge</td>\n",
              "      <td>43.631851</td>\n",
              "      <td>-79.471321</td>\n",
              "    </tr>\n",
              "    <tr>\n",
              "      <th>9</th>\n",
              "      <td>The Distillery Historic District</td>\n",
              "      <td>Historic Site</td>\n",
              "      <td>43.650244</td>\n",
              "      <td>-79.359323</td>\n",
              "    </tr>\n",
              "    <tr>\n",
              "      <th>10</th>\n",
              "      <td>SOMA chocolatemaker</td>\n",
              "      <td>Dessert Shop</td>\n",
              "      <td>43.645328</td>\n",
              "      <td>-79.395714</td>\n",
              "    </tr>\n",
              "    <tr>\n",
              "      <th>11</th>\n",
              "      <td>Harbour Square Park</td>\n",
              "      <td>Park</td>\n",
              "      <td>43.639253</td>\n",
              "      <td>-79.378395</td>\n",
              "    </tr>\n",
              "    <tr>\n",
              "      <th>12</th>\n",
              "      <td>St. Lawrence Market (South Building)</td>\n",
              "      <td>Farmers Market</td>\n",
              "      <td>43.648743</td>\n",
              "      <td>-79.371597</td>\n",
              "    </tr>\n",
              "    <tr>\n",
              "      <th>13</th>\n",
              "      <td>Sunnyside Park</td>\n",
              "      <td>Park</td>\n",
              "      <td>43.636670</td>\n",
              "      <td>-79.461212</td>\n",
              "    </tr>\n",
              "    <tr>\n",
              "      <th>14</th>\n",
              "      <td>Cumbrae's</td>\n",
              "      <td>Butcher</td>\n",
              "      <td>43.646248</td>\n",
              "      <td>-79.408922</td>\n",
              "    </tr>\n",
              "    <tr>\n",
              "      <th>15</th>\n",
              "      <td>Port Union Waterfront Park</td>\n",
              "      <td>Park</td>\n",
              "      <td>43.774967</td>\n",
              "      <td>-79.134393</td>\n",
              "    </tr>\n",
              "    <tr>\n",
              "      <th>16</th>\n",
              "      <td>Sunnybrook Park</td>\n",
              "      <td>Other Great Outdoors</td>\n",
              "      <td>43.722317</td>\n",
              "      <td>-79.355496</td>\n",
              "    </tr>\n",
              "    <tr>\n",
              "      <th>17</th>\n",
              "      <td>Trinity Bellwoods Park</td>\n",
              "      <td>Park</td>\n",
              "      <td>43.647072</td>\n",
              "      <td>-79.413756</td>\n",
              "    </tr>\n",
              "    <tr>\n",
              "      <th>18</th>\n",
              "      <td>LCBO</td>\n",
              "      <td>Liquor Store</td>\n",
              "      <td>43.681497</td>\n",
              "      <td>-79.391261</td>\n",
              "    </tr>\n",
              "    <tr>\n",
              "      <th>19</th>\n",
              "      <td>Yeti Nails &amp; Spa</td>\n",
              "      <td>Cosmetics Shop</td>\n",
              "      <td>43.647938</td>\n",
              "      <td>-79.396330</td>\n",
              "    </tr>\n",
              "    <tr>\n",
              "      <th>20</th>\n",
              "      <td>Porchetta &amp; Co</td>\n",
              "      <td>Sandwich Place</td>\n",
              "      <td>43.644664</td>\n",
              "      <td>-79.398813</td>\n",
              "    </tr>\n",
              "    <tr>\n",
              "      <th>21</th>\n",
              "      <td>Distillery Sunday Market</td>\n",
              "      <td>Farmers Market</td>\n",
              "      <td>43.650075</td>\n",
              "      <td>-79.361832</td>\n",
              "    </tr>\n",
              "    <tr>\n",
              "      <th>22</th>\n",
              "      <td>Honest Weight</td>\n",
              "      <td>Seafood Restaurant</td>\n",
              "      <td>43.665389</td>\n",
              "      <td>-79.461335</td>\n",
              "    </tr>\n",
              "    <tr>\n",
              "      <th>23</th>\n",
              "      <td>Toronto Islands</td>\n",
              "      <td>Park</td>\n",
              "      <td>43.622112</td>\n",
              "      <td>-79.378495</td>\n",
              "    </tr>\n",
              "    <tr>\n",
              "      <th>24</th>\n",
              "      <td>Woodbine Beach</td>\n",
              "      <td>Beach</td>\n",
              "      <td>43.663112</td>\n",
              "      <td>-79.306374</td>\n",
              "    </tr>\n",
              "    <tr>\n",
              "      <th>25</th>\n",
              "      <td>Pukka Restaurant</td>\n",
              "      <td>Indian Restaurant</td>\n",
              "      <td>43.681055</td>\n",
              "      <td>-79.429187</td>\n",
              "    </tr>\n",
              "    <tr>\n",
              "      <th>26</th>\n",
              "      <td>The Planet Traveler</td>\n",
              "      <td>Hostel</td>\n",
              "      <td>43.657202</td>\n",
              "      <td>-79.403568</td>\n",
              "    </tr>\n",
              "    <tr>\n",
              "      <th>27</th>\n",
              "      <td>Earl Bales Park</td>\n",
              "      <td>Park</td>\n",
              "      <td>43.753043</td>\n",
              "      <td>-79.436228</td>\n",
              "    </tr>\n",
              "    <tr>\n",
              "      <th>28</th>\n",
              "      <td>Greenhouse Juice Co</td>\n",
              "      <td>Juice Bar</td>\n",
              "      <td>43.679101</td>\n",
              "      <td>-79.390686</td>\n",
              "    </tr>\n",
              "    <tr>\n",
              "      <th>29</th>\n",
              "      <td>Offleash Dog Trail - High Park</td>\n",
              "      <td>Dog Run</td>\n",
              "      <td>43.645485</td>\n",
              "      <td>-79.458747</td>\n",
              "    </tr>\n",
              "  </tbody>\n",
              "</table>\n",
              "</div>"
            ],
            "text/plain": [
              "                                    name  ...        lng\n",
              "0                              High Park  ... -79.463425\n",
              "1                         Northern Belle  ... -79.412840\n",
              "2                    Riverdale Park East  ... -79.355493\n",
              "3                       Downtown Toronto  ... -79.385296\n",
              "4                         Cedarvale Park  ... -79.428705\n",
              "5                       Waterfront Trail  ... -79.467529\n",
              "6                           Maryam Hotel  ... -79.401199\n",
              "7                        Humber Bay Park  ... -79.478389\n",
              "8                Humber River Footbridge  ... -79.471321\n",
              "9       The Distillery Historic District  ... -79.359323\n",
              "10                   SOMA chocolatemaker  ... -79.395714\n",
              "11                   Harbour Square Park  ... -79.378395\n",
              "12  St. Lawrence Market (South Building)  ... -79.371597\n",
              "13                        Sunnyside Park  ... -79.461212\n",
              "14                             Cumbrae's  ... -79.408922\n",
              "15            Port Union Waterfront Park  ... -79.134393\n",
              "16                       Sunnybrook Park  ... -79.355496\n",
              "17                Trinity Bellwoods Park  ... -79.413756\n",
              "18                                  LCBO  ... -79.391261\n",
              "19                      Yeti Nails & Spa  ... -79.396330\n",
              "20                        Porchetta & Co  ... -79.398813\n",
              "21              Distillery Sunday Market  ... -79.361832\n",
              "22                         Honest Weight  ... -79.461335\n",
              "23                       Toronto Islands  ... -79.378495\n",
              "24                        Woodbine Beach  ... -79.306374\n",
              "25                      Pukka Restaurant  ... -79.429187\n",
              "26                   The Planet Traveler  ... -79.403568\n",
              "27                       Earl Bales Park  ... -79.436228\n",
              "28                   Greenhouse Juice Co  ... -79.390686\n",
              "29        Offleash Dog Trail - High Park  ... -79.458747\n",
              "\n",
              "[30 rows x 4 columns]"
            ]
          },
          "metadata": {
            "tags": []
          },
          "execution_count": 38
        }
      ]
    },
    {
      "cell_type": "code",
      "metadata": {
        "colab": {
          "base_uri": "https://localhost:8080/"
        },
        "id": "AzHbpbkOIdT9",
        "outputId": "81492121-74ac-4ca1-99b3-e58856c2db9a"
      },
      "source": [
        "print('{} venues were returned by Foursquare.'.format(nearby_venues.shape[0]))"
      ],
      "execution_count": 30,
      "outputs": [
        {
          "output_type": "stream",
          "text": [
            "30 venues were returned by Foursquare.\n"
          ],
          "name": "stdout"
        }
      ]
    },
    {
      "cell_type": "markdown",
      "metadata": {
        "id": "d9Y6_kHgLM1I"
      },
      "source": [
        "# Visualizing the data"
      ]
    },
    {
      "cell_type": "code",
      "metadata": {
        "id": "ueSw5OxaK4SZ"
      },
      "source": [
        "m = folium.Map(location=[43.6532, -79.3832], zoom_start=15)"
      ],
      "execution_count": 54,
      "outputs": []
    },
    {
      "cell_type": "code",
      "metadata": {
        "colab": {
          "base_uri": "https://localhost:8080/",
          "height": 204
        },
        "id": "e8YctTZBOO0a",
        "outputId": "cec2025d-a81e-4827-da16-666d69e8d6e9"
      },
      "source": [
        "venues_viz = pd.DataFrame(nearby_venues)\n",
        "venues_viz.head()"
      ],
      "execution_count": 55,
      "outputs": [
        {
          "output_type": "execute_result",
          "data": {
            "text/html": [
              "<div>\n",
              "<style scoped>\n",
              "    .dataframe tbody tr th:only-of-type {\n",
              "        vertical-align: middle;\n",
              "    }\n",
              "\n",
              "    .dataframe tbody tr th {\n",
              "        vertical-align: top;\n",
              "    }\n",
              "\n",
              "    .dataframe thead th {\n",
              "        text-align: right;\n",
              "    }\n",
              "</style>\n",
              "<table border=\"1\" class=\"dataframe\">\n",
              "  <thead>\n",
              "    <tr style=\"text-align: right;\">\n",
              "      <th></th>\n",
              "      <th>name</th>\n",
              "      <th>categories</th>\n",
              "      <th>lat</th>\n",
              "      <th>lng</th>\n",
              "    </tr>\n",
              "  </thead>\n",
              "  <tbody>\n",
              "    <tr>\n",
              "      <th>0</th>\n",
              "      <td>High Park</td>\n",
              "      <td>Park</td>\n",
              "      <td>43.646479</td>\n",
              "      <td>-79.463425</td>\n",
              "    </tr>\n",
              "    <tr>\n",
              "      <th>1</th>\n",
              "      <td>Northern Belle</td>\n",
              "      <td>Cocktail Bar</td>\n",
              "      <td>43.650906</td>\n",
              "      <td>-79.412840</td>\n",
              "    </tr>\n",
              "    <tr>\n",
              "      <th>2</th>\n",
              "      <td>Riverdale Park East</td>\n",
              "      <td>Park</td>\n",
              "      <td>43.669951</td>\n",
              "      <td>-79.355493</td>\n",
              "    </tr>\n",
              "    <tr>\n",
              "      <th>3</th>\n",
              "      <td>Downtown Toronto</td>\n",
              "      <td>Neighborhood</td>\n",
              "      <td>43.653232</td>\n",
              "      <td>-79.385296</td>\n",
              "    </tr>\n",
              "    <tr>\n",
              "      <th>4</th>\n",
              "      <td>Cedarvale Park</td>\n",
              "      <td>Field</td>\n",
              "      <td>43.692535</td>\n",
              "      <td>-79.428705</td>\n",
              "    </tr>\n",
              "  </tbody>\n",
              "</table>\n",
              "</div>"
            ],
            "text/plain": [
              "                  name    categories        lat        lng\n",
              "0            High Park          Park  43.646479 -79.463425\n",
              "1       Northern Belle  Cocktail Bar  43.650906 -79.412840\n",
              "2  Riverdale Park East          Park  43.669951 -79.355493\n",
              "3     Downtown Toronto  Neighborhood  43.653232 -79.385296\n",
              "4       Cedarvale Park         Field  43.692535 -79.428705"
            ]
          },
          "metadata": {
            "tags": []
          },
          "execution_count": 55
        }
      ]
    },
    {
      "cell_type": "code",
      "metadata": {
        "id": "s1ezAHCCLu82"
      },
      "source": [
        "#loop to add venues to map\n",
        "\n",
        "for venue in venues_viz:\n",
        "  name = venues_viz['name']\n",
        "  lat = venues_viz['lat']\n",
        "  lng = venues_viz['lng']\n",
        "  folium.Marker(\n",
        "    location =[lat, lng],\n",
        ").add_to(m)"
      ],
      "execution_count": 56,
      "outputs": []
    },
    {
      "cell_type": "code",
      "metadata": {
        "colab": {
          "base_uri": "https://localhost:8080/",
          "height": 759
        },
        "id": "YB1tZP5pOsNZ",
        "outputId": "674b5be0-fa54-4617-d74c-3d24d8f3d83a"
      },
      "source": [
        "#show the map\n",
        "m"
      ],
      "execution_count": 57,
      "outputs": [
        {
          "output_type": "execute_result",
          "data": {
            "text/html": [
              "<div style=\"width:100%;\"><div style=\"position:relative;width:100%;height:0;padding-bottom:60%;\"><span style=\"color:#565656\">Make this Notebook Trusted to load map: File -> Trust Notebook</span><iframe src=\"about:blank\" style=\"position:absolute;width:100%;height:100%;left:0;top:0;border:none !important;\" data-html=%3C%21DOCTYPE%20html%3E%0A%3Chead%3E%20%20%20%20%0A%20%20%20%20%3Cmeta%20http-equiv%3D%22content-type%22%20content%3D%22text/html%3B%20charset%3DUTF-8%22%20/%3E%0A%20%20%20%20%3Cscript%3EL_PREFER_CANVAS%3Dfalse%3B%20L_NO_TOUCH%3Dfalse%3B%20L_DISABLE_3D%3Dfalse%3B%3C/script%3E%0A%20%20%20%20%3Cscript%20src%3D%22https%3A//cdn.jsdelivr.net/npm/leaflet%401.4.0/dist/leaflet.js%22%3E%3C/script%3E%0A%20%20%20%20%3Cscript%20src%3D%22https%3A//code.jquery.com/jquery-1.12.4.min.js%22%3E%3C/script%3E%0A%20%20%20%20%3Cscript%20src%3D%22https%3A//maxcdn.bootstrapcdn.com/bootstrap/3.2.0/js/bootstrap.min.js%22%3E%3C/script%3E%0A%20%20%20%20%3Cscript%20src%3D%22https%3A//cdnjs.cloudflare.com/ajax/libs/Leaflet.awesome-markers/2.0.2/leaflet.awesome-markers.js%22%3E%3C/script%3E%0A%20%20%20%20%3Clink%20rel%3D%22stylesheet%22%20href%3D%22https%3A//cdn.jsdelivr.net/npm/leaflet%401.4.0/dist/leaflet.css%22/%3E%0A%20%20%20%20%3Clink%20rel%3D%22stylesheet%22%20href%3D%22https%3A//maxcdn.bootstrapcdn.com/bootstrap/3.2.0/css/bootstrap.min.css%22/%3E%0A%20%20%20%20%3Clink%20rel%3D%22stylesheet%22%20href%3D%22https%3A//maxcdn.bootstrapcdn.com/bootstrap/3.2.0/css/bootstrap-theme.min.css%22/%3E%0A%20%20%20%20%3Clink%20rel%3D%22stylesheet%22%20href%3D%22https%3A//maxcdn.bootstrapcdn.com/font-awesome/4.6.3/css/font-awesome.min.css%22/%3E%0A%20%20%20%20%3Clink%20rel%3D%22stylesheet%22%20href%3D%22https%3A//cdnjs.cloudflare.com/ajax/libs/Leaflet.awesome-markers/2.0.2/leaflet.awesome-markers.css%22/%3E%0A%20%20%20%20%3Clink%20rel%3D%22stylesheet%22%20href%3D%22https%3A//rawcdn.githack.com/python-visualization/folium/master/folium/templates/leaflet.awesome.rotate.css%22/%3E%0A%20%20%20%20%3Cstyle%3Ehtml%2C%20body%20%7Bwidth%3A%20100%25%3Bheight%3A%20100%25%3Bmargin%3A%200%3Bpadding%3A%200%3B%7D%3C/style%3E%0A%20%20%20%20%3Cstyle%3E%23map%20%7Bposition%3Aabsolute%3Btop%3A0%3Bbottom%3A0%3Bright%3A0%3Bleft%3A0%3B%7D%3C/style%3E%0A%20%20%20%20%0A%20%20%20%20%3Cmeta%20name%3D%22viewport%22%20content%3D%22width%3Ddevice-width%2C%0A%20%20%20%20%20%20%20%20initial-scale%3D1.0%2C%20maximum-scale%3D1.0%2C%20user-scalable%3Dno%22%20/%3E%0A%20%20%20%20%3Cstyle%3E%23map_e4699a4081ea4877a1859bce1749a524%20%7B%0A%20%20%20%20%20%20%20%20position%3A%20relative%3B%0A%20%20%20%20%20%20%20%20width%3A%20100.0%25%3B%0A%20%20%20%20%20%20%20%20height%3A%20100.0%25%3B%0A%20%20%20%20%20%20%20%20left%3A%200.0%25%3B%0A%20%20%20%20%20%20%20%20top%3A%200.0%25%3B%0A%20%20%20%20%20%20%20%20%7D%0A%20%20%20%20%3C/style%3E%0A%3C/head%3E%0A%3Cbody%3E%20%20%20%20%0A%20%20%20%20%0A%20%20%20%20%3Cdiv%20class%3D%22folium-map%22%20id%3D%22map_e4699a4081ea4877a1859bce1749a524%22%20%3E%3C/div%3E%0A%3C/body%3E%0A%3Cscript%3E%20%20%20%20%0A%20%20%20%20%0A%20%20%20%20%0A%20%20%20%20%20%20%20%20var%20bounds%20%3D%20null%3B%0A%20%20%20%20%0A%0A%20%20%20%20var%20map_e4699a4081ea4877a1859bce1749a524%20%3D%20L.map%28%0A%20%20%20%20%20%20%20%20%27map_e4699a4081ea4877a1859bce1749a524%27%2C%20%7B%0A%20%20%20%20%20%20%20%20center%3A%20%5B43.6532%2C%20-79.3832%5D%2C%0A%20%20%20%20%20%20%20%20zoom%3A%2015%2C%0A%20%20%20%20%20%20%20%20maxBounds%3A%20bounds%2C%0A%20%20%20%20%20%20%20%20layers%3A%20%5B%5D%2C%0A%20%20%20%20%20%20%20%20worldCopyJump%3A%20false%2C%0A%20%20%20%20%20%20%20%20crs%3A%20L.CRS.EPSG3857%2C%0A%20%20%20%20%20%20%20%20zoomControl%3A%20true%2C%0A%20%20%20%20%20%20%20%20%7D%29%3B%0A%0A%0A%20%20%20%20%0A%20%20%20%20var%20tile_layer_96fc70774d8b4c149596855cf5fca8a3%20%3D%20L.tileLayer%28%0A%20%20%20%20%20%20%20%20%27https%3A//%7Bs%7D.tile.openstreetmap.org/%7Bz%7D/%7Bx%7D/%7By%7D.png%27%2C%0A%20%20%20%20%20%20%20%20%7B%0A%20%20%20%20%20%20%20%20%22attribution%22%3A%20null%2C%0A%20%20%20%20%20%20%20%20%22detectRetina%22%3A%20false%2C%0A%20%20%20%20%20%20%20%20%22maxNativeZoom%22%3A%2018%2C%0A%20%20%20%20%20%20%20%20%22maxZoom%22%3A%2018%2C%0A%20%20%20%20%20%20%20%20%22minZoom%22%3A%200%2C%0A%20%20%20%20%20%20%20%20%22noWrap%22%3A%20false%2C%0A%20%20%20%20%20%20%20%20%22opacity%22%3A%201%2C%0A%20%20%20%20%20%20%20%20%22subdomains%22%3A%20%22abc%22%2C%0A%20%20%20%20%20%20%20%20%22tms%22%3A%20false%0A%7D%29.addTo%28map_e4699a4081ea4877a1859bce1749a524%29%3B%0A%20%20%20%20%0A%20%20%20%20%20%20%20%20var%20marker_f6a92c49e7d64e268ce1b4adc77a4d4f%20%3D%20L.marker%28%0A%20%20%20%20%20%20%20%20%20%20%20%20%5B%5B43.6464791690415%2C%2043.65090626786184%2C%2043.66995145540962%2C%2043.65323167517444%2C%2043.692534923091934%2C%2043.63585927859915%2C%2043.766961%2C%2043.6223956417084%2C%2043.63185092304897%2C%2043.65024435658077%2C%2043.64532829235515%2C%2043.63925269130776%2C%2043.64874320223593%2C%2043.636669660341575%2C%2043.64624849355752%2C%2043.774967388607294%2C%2043.72231713758858%2C%2043.64707192840234%2C%2043.68149682937831%2C%2043.647937726631774%2C%2043.64466404008139%2C%2043.650074989330655%2C%2043.665389%2C%2043.62211231383369%2C%2043.663111695163565%2C%2043.68105502412986%2C%2043.657202%2C%2043.75304340101652%2C%2043.67910117808306%2C%2043.64548543069719%5D%2C%20%5B-79.46342468261719%2C%20-79.41283996212603%2C%20-79.35549259185791%2C%20-79.38529600606677%2C%20-79.42870527613704%2C%20-79.46752926947985%2C%20-79.401199%2C%20-79.47838891858714%2C%20-79.47132110595703%2C%20-79.35932278633118%2C%20-79.39571438648944%2C%20-79.37839547902978%2C%20-79.37159697627527%2C%20-79.46121173507844%2C%20-79.40892240807182%2C%20-79.13439273834229%2C%20-79.35549634368492%2C%20-79.4137559260075%2C%20-79.39126079276781%2C%20-79.3963296299419%2C%20-79.39881259826922%2C%20-79.36183171318665%2C%20-79.461335%2C%20-79.37849521636963%2C%20-79.3063739538978%2C%20-79.4291869567722%2C%20-79.403568%2C%20-79.43622849867882%2C%20-79.39068555107286%2C%20-79.45874691009521%5D%5D%2C%0A%20%20%20%20%20%20%20%20%20%20%20%20%7B%0A%20%20%20%20%20%20%20%20%20%20%20%20%20%20%20%20icon%3A%20new%20L.Icon.Default%28%29%2C%0A%20%20%20%20%20%20%20%20%20%20%20%20%20%20%20%20%7D%0A%20%20%20%20%20%20%20%20%20%20%20%20%29.addTo%28map_e4699a4081ea4877a1859bce1749a524%29%3B%0A%20%20%20%20%20%20%20%20%0A%20%20%20%20%0A%20%20%20%20%20%20%20%20var%20marker_2e4e79132fbd4988ba3bf11669196393%20%3D%20L.marker%28%0A%20%20%20%20%20%20%20%20%20%20%20%20%5B%5B43.6464791690415%2C%2043.65090626786184%2C%2043.66995145540962%2C%2043.65323167517444%2C%2043.692534923091934%2C%2043.63585927859915%2C%2043.766961%2C%2043.6223956417084%2C%2043.63185092304897%2C%2043.65024435658077%2C%2043.64532829235515%2C%2043.63925269130776%2C%2043.64874320223593%2C%2043.636669660341575%2C%2043.64624849355752%2C%2043.774967388607294%2C%2043.72231713758858%2C%2043.64707192840234%2C%2043.68149682937831%2C%2043.647937726631774%2C%2043.64466404008139%2C%2043.650074989330655%2C%2043.665389%2C%2043.62211231383369%2C%2043.663111695163565%2C%2043.68105502412986%2C%2043.657202%2C%2043.75304340101652%2C%2043.67910117808306%2C%2043.64548543069719%5D%2C%20%5B-79.46342468261719%2C%20-79.41283996212603%2C%20-79.35549259185791%2C%20-79.38529600606677%2C%20-79.42870527613704%2C%20-79.46752926947985%2C%20-79.401199%2C%20-79.47838891858714%2C%20-79.47132110595703%2C%20-79.35932278633118%2C%20-79.39571438648944%2C%20-79.37839547902978%2C%20-79.37159697627527%2C%20-79.46121173507844%2C%20-79.40892240807182%2C%20-79.13439273834229%2C%20-79.35549634368492%2C%20-79.4137559260075%2C%20-79.39126079276781%2C%20-79.3963296299419%2C%20-79.39881259826922%2C%20-79.36183171318665%2C%20-79.461335%2C%20-79.37849521636963%2C%20-79.3063739538978%2C%20-79.4291869567722%2C%20-79.403568%2C%20-79.43622849867882%2C%20-79.39068555107286%2C%20-79.45874691009521%5D%5D%2C%0A%20%20%20%20%20%20%20%20%20%20%20%20%7B%0A%20%20%20%20%20%20%20%20%20%20%20%20%20%20%20%20icon%3A%20new%20L.Icon.Default%28%29%2C%0A%20%20%20%20%20%20%20%20%20%20%20%20%20%20%20%20%7D%0A%20%20%20%20%20%20%20%20%20%20%20%20%29.addTo%28map_e4699a4081ea4877a1859bce1749a524%29%3B%0A%20%20%20%20%20%20%20%20%0A%20%20%20%20%0A%20%20%20%20%20%20%20%20var%20marker_71b476fd5b164a4ba6e1576e986d274f%20%3D%20L.marker%28%0A%20%20%20%20%20%20%20%20%20%20%20%20%5B%5B43.6464791690415%2C%2043.65090626786184%2C%2043.66995145540962%2C%2043.65323167517444%2C%2043.692534923091934%2C%2043.63585927859915%2C%2043.766961%2C%2043.6223956417084%2C%2043.63185092304897%2C%2043.65024435658077%2C%2043.64532829235515%2C%2043.63925269130776%2C%2043.64874320223593%2C%2043.636669660341575%2C%2043.64624849355752%2C%2043.774967388607294%2C%2043.72231713758858%2C%2043.64707192840234%2C%2043.68149682937831%2C%2043.647937726631774%2C%2043.64466404008139%2C%2043.650074989330655%2C%2043.665389%2C%2043.62211231383369%2C%2043.663111695163565%2C%2043.68105502412986%2C%2043.657202%2C%2043.75304340101652%2C%2043.67910117808306%2C%2043.64548543069719%5D%2C%20%5B-79.46342468261719%2C%20-79.41283996212603%2C%20-79.35549259185791%2C%20-79.38529600606677%2C%20-79.42870527613704%2C%20-79.46752926947985%2C%20-79.401199%2C%20-79.47838891858714%2C%20-79.47132110595703%2C%20-79.35932278633118%2C%20-79.39571438648944%2C%20-79.37839547902978%2C%20-79.37159697627527%2C%20-79.46121173507844%2C%20-79.40892240807182%2C%20-79.13439273834229%2C%20-79.35549634368492%2C%20-79.4137559260075%2C%20-79.39126079276781%2C%20-79.3963296299419%2C%20-79.39881259826922%2C%20-79.36183171318665%2C%20-79.461335%2C%20-79.37849521636963%2C%20-79.3063739538978%2C%20-79.4291869567722%2C%20-79.403568%2C%20-79.43622849867882%2C%20-79.39068555107286%2C%20-79.45874691009521%5D%5D%2C%0A%20%20%20%20%20%20%20%20%20%20%20%20%7B%0A%20%20%20%20%20%20%20%20%20%20%20%20%20%20%20%20icon%3A%20new%20L.Icon.Default%28%29%2C%0A%20%20%20%20%20%20%20%20%20%20%20%20%20%20%20%20%7D%0A%20%20%20%20%20%20%20%20%20%20%20%20%29.addTo%28map_e4699a4081ea4877a1859bce1749a524%29%3B%0A%20%20%20%20%20%20%20%20%0A%20%20%20%20%0A%20%20%20%20%20%20%20%20var%20marker_5af955d0981848759a6eff46ee2d2739%20%3D%20L.marker%28%0A%20%20%20%20%20%20%20%20%20%20%20%20%5B%5B43.6464791690415%2C%2043.65090626786184%2C%2043.66995145540962%2C%2043.65323167517444%2C%2043.692534923091934%2C%2043.63585927859915%2C%2043.766961%2C%2043.6223956417084%2C%2043.63185092304897%2C%2043.65024435658077%2C%2043.64532829235515%2C%2043.63925269130776%2C%2043.64874320223593%2C%2043.636669660341575%2C%2043.64624849355752%2C%2043.774967388607294%2C%2043.72231713758858%2C%2043.64707192840234%2C%2043.68149682937831%2C%2043.647937726631774%2C%2043.64466404008139%2C%2043.650074989330655%2C%2043.665389%2C%2043.62211231383369%2C%2043.663111695163565%2C%2043.68105502412986%2C%2043.657202%2C%2043.75304340101652%2C%2043.67910117808306%2C%2043.64548543069719%5D%2C%20%5B-79.46342468261719%2C%20-79.41283996212603%2C%20-79.35549259185791%2C%20-79.38529600606677%2C%20-79.42870527613704%2C%20-79.46752926947985%2C%20-79.401199%2C%20-79.47838891858714%2C%20-79.47132110595703%2C%20-79.35932278633118%2C%20-79.39571438648944%2C%20-79.37839547902978%2C%20-79.37159697627527%2C%20-79.46121173507844%2C%20-79.40892240807182%2C%20-79.13439273834229%2C%20-79.35549634368492%2C%20-79.4137559260075%2C%20-79.39126079276781%2C%20-79.3963296299419%2C%20-79.39881259826922%2C%20-79.36183171318665%2C%20-79.461335%2C%20-79.37849521636963%2C%20-79.3063739538978%2C%20-79.4291869567722%2C%20-79.403568%2C%20-79.43622849867882%2C%20-79.39068555107286%2C%20-79.45874691009521%5D%5D%2C%0A%20%20%20%20%20%20%20%20%20%20%20%20%7B%0A%20%20%20%20%20%20%20%20%20%20%20%20%20%20%20%20icon%3A%20new%20L.Icon.Default%28%29%2C%0A%20%20%20%20%20%20%20%20%20%20%20%20%20%20%20%20%7D%0A%20%20%20%20%20%20%20%20%20%20%20%20%29.addTo%28map_e4699a4081ea4877a1859bce1749a524%29%3B%0A%20%20%20%20%20%20%20%20%0A%3C/script%3E onload=\"this.contentDocument.open();this.contentDocument.write(    decodeURIComponent(this.getAttribute('data-html')));this.contentDocument.close();\" allowfullscreen webkitallowfullscreen mozallowfullscreen></iframe></div></div>"
            ],
            "text/plain": [
              "<folium.folium.Map at 0x7f0a77ee2a58>"
            ]
          },
          "metadata": {
            "tags": []
          },
          "execution_count": 57
        }
      ]
    },
    {
      "cell_type": "markdown",
      "metadata": {
        "id": "BnmASpF4tmFC"
      },
      "source": [
        "## Results\n",
        "\n",
        "There is a high concentration of business along Queen St in Toronto. Thus, this would be an ideal place for LeNike to setup shop"
      ]
    },
    {
      "cell_type": "markdown",
      "metadata": {
        "id": "WpErFySftsln"
      },
      "source": [
        "# Discussion\n",
        "The FourSquare API did not return a large number of venues for Toronto, and so the analysis had to run using light data. For future projects, stitching together multiple data sources using APIs may be the best for big data anlaysis. "
      ]
    },
    {
      "cell_type": "markdown",
      "metadata": {
        "id": "2MO7CYJrtyER"
      },
      "source": [
        "# Conclusion \n",
        "Overall, LeNike can definitely set up a pop-up store in Toronto as there are a number of venues in the city that are close together and generate a good deal of foot traffic. "
      ]
    },
    {
      "cell_type": "code",
      "metadata": {
        "id": "MQpDv9U0tsRt"
      },
      "source": [
        ""
      ],
      "execution_count": null,
      "outputs": []
    },
    {
      "cell_type": "code",
      "metadata": {
        "id": "90A728sVorAc"
      },
      "source": [
        ""
      ],
      "execution_count": null,
      "outputs": []
    }
  ]
}